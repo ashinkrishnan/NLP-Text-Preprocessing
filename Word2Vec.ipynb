{
 "cells": [
  {
   "cell_type": "code",
   "execution_count": 57,
   "id": "ceb7713c",
   "metadata": {},
   "outputs": [],
   "source": [
    "import nltk\n",
    "\n",
    "from nltk.corpus import stopwords\n",
    "from gensim.models import Word2Vec\n",
    "\n",
    "import re"
   ]
  },
  {
   "cell_type": "code",
   "execution_count": 58,
   "id": "cf5b6981",
   "metadata": {},
   "outputs": [],
   "source": [
    "paragraph=\"\"\"Coronaviruses are enveloped, positive-stranded RNA viruses with a genome of approximately 30 kb. Based on genetic similarities, coronaviruses are classified into three groups. Two group 2 coronaviruses, human coronavirus OC43 (HCoV-OC43) and bovine coronavirus (BCoV), show remarkable antigenic and genetic similarities. In this study, we report the first complete genome sequence (30,738 nucleotides) of the prototype HCoV-OC43 strain (ATCC VR759). Complete genome and open reading frame (ORF) analyses were performed in comparison to the BCoV genome. In the region between the spike and membrane protein genes, a 290-nucleotide deletion is present, corresponding to the absence of BCoV ORFs ns4.9 and ns4.8. Nucleotide and amino acid similarity percentages were determined for the major HCoV-OC43 ORFs and for those of other group 2 coronaviruses. The highest degree of similarity is demonstrated between HCoV-OC43 and BCoV in all ORFs with the exception of the E gene. Molecular clock analysis of the spike gene sequences of BCoV and HCoV-OC43 suggests a relatively recent zoonotic transmission event and dates their most recent common ancestor to around 1890. An evolutionary rate in the order of 4 × 10−4 nucleotide changes per site per year was estimated. This is the first animal-human zoonotic pair of coronaviruses that can be analyzed in order to gain insights into the processes of adaptation of a nonhuman coronavirus to a human host, which is important for understanding the interspecies transmission events that led to the origin of the severe acute respiratory syndrome outbreak.\"\"\""
   ]
  },
  {
   "cell_type": "code",
   "execution_count": 59,
   "id": "da3c8fbd",
   "metadata": {
    "scrolled": true
   },
   "outputs": [
    {
     "data": {
      "text/plain": [
       "'Coronaviruses are enveloped, positive-stranded RNA viruses with a genome of approximately 30 kb. Based on genetic similarities, coronaviruses are classified into three groups. Two group 2 coronaviruses, human coronavirus OC43 (HCoV-OC43) and bovine coronavirus (BCoV), show remarkable antigenic and genetic similarities. In this study, we report the first complete genome sequence (30,738 nucleotides) of the prototype HCoV-OC43 strain (ATCC VR759). Complete genome and open reading frame (ORF) analyses were performed in comparison to the BCoV genome. In the region between the spike and membrane protein genes, a 290-nucleotide deletion is present, corresponding to the absence of BCoV ORFs ns4.9 and ns4.8. Nucleotide and amino acid similarity percentages were determined for the major HCoV-OC43 ORFs and for those of other group 2 coronaviruses. The highest degree of similarity is demonstrated between HCoV-OC43 and BCoV in all ORFs with the exception of the E gene. Molecular clock analysis of the spike gene sequences of BCoV and HCoV-OC43 suggests a relatively recent zoonotic transmission event and dates their most recent common ancestor to around 1890. An evolutionary rate in the order of 4 × 10−4 nucleotide changes per site per year was estimated. This is the first animal-human zoonotic pair of coronaviruses that can be analyzed in order to gain insights into the processes of adaptation of a nonhuman coronavirus to a human host, which is important for understanding the interspecies transmission events that led to the origin of the severe acute respiratory syndrome outbreak.'"
      ]
     },
     "execution_count": 59,
     "metadata": {},
     "output_type": "execute_result"
    }
   ],
   "source": [
    "paragraph"
   ]
  },
  {
   "cell_type": "code",
   "execution_count": 60,
   "id": "22462984",
   "metadata": {},
   "outputs": [],
   "source": [
    "#Text cleaning using regular expression\n",
    "text = re.sub(r'\\[[0-9]*\\]',' ',paragraph)\n",
    "text = re.sub(r'\\s+',' ',text)\n",
    "text = text.lower()\n",
    "text = re.sub(r'\\d',' ',text)\n",
    "text = re.sub(r'\\s+',' ',text)"
   ]
  },
  {
   "cell_type": "code",
   "execution_count": 61,
   "id": "895a90b6",
   "metadata": {},
   "outputs": [],
   "source": [
    "sentences = nltk.sent_tokenize(text)"
   ]
  },
  {
   "cell_type": "code",
   "execution_count": 62,
   "id": "ffde4b54",
   "metadata": {
    "scrolled": true
   },
   "outputs": [
    {
     "data": {
      "text/plain": [
       "['coronaviruses are enveloped, positive-stranded rna viruses with a genome of approximately kb.',\n",
       " 'based on genetic similarities, coronaviruses are classified into three groups.',\n",
       " 'two group coronaviruses, human coronavirus oc (hcov-oc ) and bovine coronavirus (bcov), show remarkable antigenic and genetic similarities.',\n",
       " 'in this study, we report the first complete genome sequence ( , nucleotides) of the prototype hcov-oc strain (atcc vr ).',\n",
       " 'complete genome and open reading frame (orf) analyses were performed in comparison to the bcov genome.',\n",
       " 'in the region between the spike and membrane protein genes, a -nucleotide deletion is present, corresponding to the absence of bcov orfs ns .',\n",
       " 'and ns .',\n",
       " '.',\n",
       " 'nucleotide and amino acid similarity percentages were determined for the major hcov-oc orfs and for those of other group coronaviruses.',\n",
       " 'the highest degree of similarity is demonstrated between hcov-oc and bcov in all orfs with the exception of the e gene.',\n",
       " 'molecular clock analysis of the spike gene sequences of bcov and hcov-oc suggests a relatively recent zoonotic transmission event and dates their most recent common ancestor to around .',\n",
       " 'an evolutionary rate in the order of × − nucleotide changes per site per year was estimated.',\n",
       " 'this is the first animal-human zoonotic pair of coronaviruses that can be analyzed in order to gain insights into the processes of adaptation of a nonhuman coronavirus to a human host, which is important for understanding the interspecies transmission events that led to the origin of the severe acute respiratory syndrome outbreak.']"
      ]
     },
     "execution_count": 62,
     "metadata": {},
     "output_type": "execute_result"
    }
   ],
   "source": [
    "sentences"
   ]
  },
  {
   "cell_type": "code",
   "execution_count": 63,
   "id": "d7bd5032",
   "metadata": {},
   "outputs": [],
   "source": [
    "sentences = [nltk.word_tokenize(sentence) for sentence in sentences]"
   ]
  },
  {
   "cell_type": "code",
   "execution_count": 64,
   "id": "69ffe98b",
   "metadata": {},
   "outputs": [],
   "source": [
    "for i in range(len(sentences)):\n",
    "    sentences[i] = [word for word in sentences[i] if word not in stopwords.words('english')]"
   ]
  },
  {
   "cell_type": "code",
   "execution_count": 65,
   "id": "f0a68793",
   "metadata": {},
   "outputs": [
    {
     "data": {
      "text/plain": [
       "[['coronaviruses',\n",
       "  'enveloped',\n",
       "  ',',\n",
       "  'positive-stranded',\n",
       "  'rna',\n",
       "  'viruses',\n",
       "  'genome',\n",
       "  'approximately',\n",
       "  'kb',\n",
       "  '.'],\n",
       " ['based',\n",
       "  'genetic',\n",
       "  'similarities',\n",
       "  ',',\n",
       "  'coronaviruses',\n",
       "  'classified',\n",
       "  'three',\n",
       "  'groups',\n",
       "  '.'],\n",
       " ['two',\n",
       "  'group',\n",
       "  'coronaviruses',\n",
       "  ',',\n",
       "  'human',\n",
       "  'coronavirus',\n",
       "  'oc',\n",
       "  '(',\n",
       "  'hcov-oc',\n",
       "  ')',\n",
       "  'bovine',\n",
       "  'coronavirus',\n",
       "  '(',\n",
       "  'bcov',\n",
       "  ')',\n",
       "  ',',\n",
       "  'show',\n",
       "  'remarkable',\n",
       "  'antigenic',\n",
       "  'genetic',\n",
       "  'similarities',\n",
       "  '.'],\n",
       " ['study',\n",
       "  ',',\n",
       "  'report',\n",
       "  'first',\n",
       "  'complete',\n",
       "  'genome',\n",
       "  'sequence',\n",
       "  '(',\n",
       "  ',',\n",
       "  'nucleotides',\n",
       "  ')',\n",
       "  'prototype',\n",
       "  'hcov-oc',\n",
       "  'strain',\n",
       "  '(',\n",
       "  'atcc',\n",
       "  'vr',\n",
       "  ')',\n",
       "  '.'],\n",
       " ['complete',\n",
       "  'genome',\n",
       "  'open',\n",
       "  'reading',\n",
       "  'frame',\n",
       "  '(',\n",
       "  'orf',\n",
       "  ')',\n",
       "  'analyses',\n",
       "  'performed',\n",
       "  'comparison',\n",
       "  'bcov',\n",
       "  'genome',\n",
       "  '.'],\n",
       " ['region',\n",
       "  'spike',\n",
       "  'membrane',\n",
       "  'protein',\n",
       "  'genes',\n",
       "  ',',\n",
       "  '-nucleotide',\n",
       "  'deletion',\n",
       "  'present',\n",
       "  ',',\n",
       "  'corresponding',\n",
       "  'absence',\n",
       "  'bcov',\n",
       "  'orfs',\n",
       "  'ns',\n",
       "  '.'],\n",
       " ['ns', '.'],\n",
       " ['.'],\n",
       " ['nucleotide',\n",
       "  'amino',\n",
       "  'acid',\n",
       "  'similarity',\n",
       "  'percentages',\n",
       "  'determined',\n",
       "  'major',\n",
       "  'hcov-oc',\n",
       "  'orfs',\n",
       "  'group',\n",
       "  'coronaviruses',\n",
       "  '.'],\n",
       " ['highest',\n",
       "  'degree',\n",
       "  'similarity',\n",
       "  'demonstrated',\n",
       "  'hcov-oc',\n",
       "  'bcov',\n",
       "  'orfs',\n",
       "  'exception',\n",
       "  'e',\n",
       "  'gene',\n",
       "  '.'],\n",
       " ['molecular',\n",
       "  'clock',\n",
       "  'analysis',\n",
       "  'spike',\n",
       "  'gene',\n",
       "  'sequences',\n",
       "  'bcov',\n",
       "  'hcov-oc',\n",
       "  'suggests',\n",
       "  'relatively',\n",
       "  'recent',\n",
       "  'zoonotic',\n",
       "  'transmission',\n",
       "  'event',\n",
       "  'dates',\n",
       "  'recent',\n",
       "  'common',\n",
       "  'ancestor',\n",
       "  'around',\n",
       "  '.'],\n",
       " ['evolutionary',\n",
       "  'rate',\n",
       "  'order',\n",
       "  '×',\n",
       "  '−',\n",
       "  'nucleotide',\n",
       "  'changes',\n",
       "  'per',\n",
       "  'site',\n",
       "  'per',\n",
       "  'year',\n",
       "  'estimated',\n",
       "  '.'],\n",
       " ['first',\n",
       "  'animal-human',\n",
       "  'zoonotic',\n",
       "  'pair',\n",
       "  'coronaviruses',\n",
       "  'analyzed',\n",
       "  'order',\n",
       "  'gain',\n",
       "  'insights',\n",
       "  'processes',\n",
       "  'adaptation',\n",
       "  'nonhuman',\n",
       "  'coronavirus',\n",
       "  'human',\n",
       "  'host',\n",
       "  ',',\n",
       "  'important',\n",
       "  'understanding',\n",
       "  'interspecies',\n",
       "  'transmission',\n",
       "  'events',\n",
       "  'led',\n",
       "  'origin',\n",
       "  'severe',\n",
       "  'acute',\n",
       "  'respiratory',\n",
       "  'syndrome',\n",
       "  'outbreak',\n",
       "  '.']]"
      ]
     },
     "execution_count": 65,
     "metadata": {},
     "output_type": "execute_result"
    }
   ],
   "source": [
    "sentences"
   ]
  },
  {
   "cell_type": "code",
   "execution_count": 66,
   "id": "650e76f9",
   "metadata": {},
   "outputs": [],
   "source": [
    "# Training the Word2Vec model\n",
    "model = Word2Vec(sentences, min_count=1)"
   ]
  },
  {
   "cell_type": "code",
   "execution_count": 68,
   "id": "972e47b2",
   "metadata": {},
   "outputs": [
    {
     "data": {
      "text/plain": [
       "{'coronaviruses': <gensim.models.keyedvectors.Vocab at 0x22fda7b04e0>,\n",
       " 'enveloped': <gensim.models.keyedvectors.Vocab at 0x22fda7b0940>,\n",
       " ',': <gensim.models.keyedvectors.Vocab at 0x22fda7b02e8>,\n",
       " 'positive-stranded': <gensim.models.keyedvectors.Vocab at 0x22fda7b0438>,\n",
       " 'rna': <gensim.models.keyedvectors.Vocab at 0x22fda95e7b8>,\n",
       " 'viruses': <gensim.models.keyedvectors.Vocab at 0x22fda95ea20>,\n",
       " 'genome': <gensim.models.keyedvectors.Vocab at 0x22fda95ecf8>,\n",
       " 'approximately': <gensim.models.keyedvectors.Vocab at 0x22fda95ee10>,\n",
       " 'kb': <gensim.models.keyedvectors.Vocab at 0x22fda95edd8>,\n",
       " '.': <gensim.models.keyedvectors.Vocab at 0x22fdadd1b70>,\n",
       " 'based': <gensim.models.keyedvectors.Vocab at 0x22fdadd1668>,\n",
       " 'genetic': <gensim.models.keyedvectors.Vocab at 0x22fdadd1128>,\n",
       " 'similarities': <gensim.models.keyedvectors.Vocab at 0x22fdadd1208>,\n",
       " 'classified': <gensim.models.keyedvectors.Vocab at 0x22fdadd1048>,\n",
       " 'three': <gensim.models.keyedvectors.Vocab at 0x22fdadd1eb8>,\n",
       " 'groups': <gensim.models.keyedvectors.Vocab at 0x22fdadd12e8>,\n",
       " 'two': <gensim.models.keyedvectors.Vocab at 0x22fdadd11d0>,\n",
       " 'group': <gensim.models.keyedvectors.Vocab at 0x22fdadd10b8>,\n",
       " 'human': <gensim.models.keyedvectors.Vocab at 0x22fda89e9e8>,\n",
       " 'coronavirus': <gensim.models.keyedvectors.Vocab at 0x22fda89e048>,\n",
       " 'oc': <gensim.models.keyedvectors.Vocab at 0x22fda89e550>,\n",
       " '(': <gensim.models.keyedvectors.Vocab at 0x22fda89e898>,\n",
       " 'hcov-oc': <gensim.models.keyedvectors.Vocab at 0x22fda89ef60>,\n",
       " ')': <gensim.models.keyedvectors.Vocab at 0x22fda89e908>,\n",
       " 'bovine': <gensim.models.keyedvectors.Vocab at 0x22fda7c86d8>,\n",
       " 'bcov': <gensim.models.keyedvectors.Vocab at 0x22fda7c8128>,\n",
       " 'show': <gensim.models.keyedvectors.Vocab at 0x22fda7c8828>,\n",
       " 'remarkable': <gensim.models.keyedvectors.Vocab at 0x22fda7c85f8>,\n",
       " 'antigenic': <gensim.models.keyedvectors.Vocab at 0x22fda7c8470>,\n",
       " 'study': <gensim.models.keyedvectors.Vocab at 0x22fda7c8240>,\n",
       " 'report': <gensim.models.keyedvectors.Vocab at 0x22fda7c8588>,\n",
       " 'first': <gensim.models.keyedvectors.Vocab at 0x22fda7c8c18>,\n",
       " 'complete': <gensim.models.keyedvectors.Vocab at 0x22fda7c8198>,\n",
       " 'sequence': <gensim.models.keyedvectors.Vocab at 0x22fda7c80b8>,\n",
       " 'nucleotides': <gensim.models.keyedvectors.Vocab at 0x22fda7c8cc0>,\n",
       " 'prototype': <gensim.models.keyedvectors.Vocab at 0x22fda7c8780>,\n",
       " 'strain': <gensim.models.keyedvectors.Vocab at 0x22fda7c87b8>,\n",
       " 'atcc': <gensim.models.keyedvectors.Vocab at 0x22fda7c80f0>,\n",
       " 'vr': <gensim.models.keyedvectors.Vocab at 0x22fda7c8ba8>,\n",
       " 'open': <gensim.models.keyedvectors.Vocab at 0x22fda7c8b38>,\n",
       " 'reading': <gensim.models.keyedvectors.Vocab at 0x22fda7c8898>,\n",
       " 'frame': <gensim.models.keyedvectors.Vocab at 0x22fda7c8978>,\n",
       " 'orf': <gensim.models.keyedvectors.Vocab at 0x22fda7c8c50>,\n",
       " 'analyses': <gensim.models.keyedvectors.Vocab at 0x22fda7c8a58>,\n",
       " 'performed': <gensim.models.keyedvectors.Vocab at 0x22fda7c8d68>,\n",
       " 'comparison': <gensim.models.keyedvectors.Vocab at 0x22fda7c8e48>,\n",
       " 'region': <gensim.models.keyedvectors.Vocab at 0x22fda7c85c0>,\n",
       " 'spike': <gensim.models.keyedvectors.Vocab at 0x22fda7c8320>,\n",
       " 'membrane': <gensim.models.keyedvectors.Vocab at 0x22fda7c8ac8>,\n",
       " 'protein': <gensim.models.keyedvectors.Vocab at 0x22fda7c8208>,\n",
       " 'genes': <gensim.models.keyedvectors.Vocab at 0x22fda7c8710>,\n",
       " '-nucleotide': <gensim.models.keyedvectors.Vocab at 0x22fda7c84a8>,\n",
       " 'deletion': <gensim.models.keyedvectors.Vocab at 0x22fda7c8160>,\n",
       " 'present': <gensim.models.keyedvectors.Vocab at 0x22fda7c8f28>,\n",
       " 'corresponding': <gensim.models.keyedvectors.Vocab at 0x22fda7c8da0>,\n",
       " 'absence': <gensim.models.keyedvectors.Vocab at 0x22fdadb3630>,\n",
       " 'orfs': <gensim.models.keyedvectors.Vocab at 0x22fdadb3438>,\n",
       " 'ns': <gensim.models.keyedvectors.Vocab at 0x22fdadb3dd8>,\n",
       " 'nucleotide': <gensim.models.keyedvectors.Vocab at 0x22fdadb3160>,\n",
       " 'amino': <gensim.models.keyedvectors.Vocab at 0x22fdadb3908>,\n",
       " 'acid': <gensim.models.keyedvectors.Vocab at 0x22fdadb3f98>,\n",
       " 'similarity': <gensim.models.keyedvectors.Vocab at 0x22fdadb3be0>,\n",
       " 'percentages': <gensim.models.keyedvectors.Vocab at 0x22fdadb3f28>,\n",
       " 'determined': <gensim.models.keyedvectors.Vocab at 0x22fdadb3d30>,\n",
       " 'major': <gensim.models.keyedvectors.Vocab at 0x22fdadb3198>,\n",
       " 'highest': <gensim.models.keyedvectors.Vocab at 0x22fdadb34a8>,\n",
       " 'degree': <gensim.models.keyedvectors.Vocab at 0x22fdadb3cc0>,\n",
       " 'demonstrated': <gensim.models.keyedvectors.Vocab at 0x22fdadb3668>,\n",
       " 'exception': <gensim.models.keyedvectors.Vocab at 0x22fdadb3080>,\n",
       " 'e': <gensim.models.keyedvectors.Vocab at 0x22fdadb3518>,\n",
       " 'gene': <gensim.models.keyedvectors.Vocab at 0x22fdadb3b38>,\n",
       " 'molecular': <gensim.models.keyedvectors.Vocab at 0x22fdadb3e48>,\n",
       " 'clock': <gensim.models.keyedvectors.Vocab at 0x22fdadb3b70>,\n",
       " 'analysis': <gensim.models.keyedvectors.Vocab at 0x22fdadb3828>,\n",
       " 'sequences': <gensim.models.keyedvectors.Vocab at 0x22fdadb3ba8>,\n",
       " 'suggests': <gensim.models.keyedvectors.Vocab at 0x22fdadb3550>,\n",
       " 'relatively': <gensim.models.keyedvectors.Vocab at 0x22fdadb36a0>,\n",
       " 'recent': <gensim.models.keyedvectors.Vocab at 0x22fdadb31d0>,\n",
       " 'zoonotic': <gensim.models.keyedvectors.Vocab at 0x22fdadb33c8>,\n",
       " 'transmission': <gensim.models.keyedvectors.Vocab at 0x22fdadb35c0>,\n",
       " 'event': <gensim.models.keyedvectors.Vocab at 0x22fdadb3208>,\n",
       " 'dates': <gensim.models.keyedvectors.Vocab at 0x22fdadb37b8>,\n",
       " 'common': <gensim.models.keyedvectors.Vocab at 0x22fdadb35f8>,\n",
       " 'ancestor': <gensim.models.keyedvectors.Vocab at 0x22fdadb3710>,\n",
       " 'around': <gensim.models.keyedvectors.Vocab at 0x22fdadb37f0>,\n",
       " 'evolutionary': <gensim.models.keyedvectors.Vocab at 0x22fdadb30f0>,\n",
       " 'rate': <gensim.models.keyedvectors.Vocab at 0x22fdadb3358>,\n",
       " 'order': <gensim.models.keyedvectors.Vocab at 0x22fdadb3320>,\n",
       " '×': <gensim.models.keyedvectors.Vocab at 0x22fdadb3fd0>,\n",
       " '−': <gensim.models.keyedvectors.Vocab at 0x22fdadb38d0>,\n",
       " 'changes': <gensim.models.keyedvectors.Vocab at 0x22fdadb3cf8>,\n",
       " 'per': <gensim.models.keyedvectors.Vocab at 0x22fdadb3a58>,\n",
       " 'site': <gensim.models.keyedvectors.Vocab at 0x22fdadb36d8>,\n",
       " 'year': <gensim.models.keyedvectors.Vocab at 0x22fdadb3780>,\n",
       " 'estimated': <gensim.models.keyedvectors.Vocab at 0x22fdadb3390>,\n",
       " 'animal-human': <gensim.models.keyedvectors.Vocab at 0x22fdadb3c88>,\n",
       " 'pair': <gensim.models.keyedvectors.Vocab at 0x22fdadb3748>,\n",
       " 'analyzed': <gensim.models.keyedvectors.Vocab at 0x22fdadb3e80>,\n",
       " 'gain': <gensim.models.keyedvectors.Vocab at 0x22fda898940>,\n",
       " 'insights': <gensim.models.keyedvectors.Vocab at 0x22fda898240>,\n",
       " 'processes': <gensim.models.keyedvectors.Vocab at 0x22fda898780>,\n",
       " 'adaptation': <gensim.models.keyedvectors.Vocab at 0x22fda898f28>,\n",
       " 'nonhuman': <gensim.models.keyedvectors.Vocab at 0x22fda898128>,\n",
       " 'host': <gensim.models.keyedvectors.Vocab at 0x22fda898550>,\n",
       " 'important': <gensim.models.keyedvectors.Vocab at 0x22fda898ef0>,\n",
       " 'understanding': <gensim.models.keyedvectors.Vocab at 0x22fda898908>,\n",
       " 'interspecies': <gensim.models.keyedvectors.Vocab at 0x22fda898278>,\n",
       " 'events': <gensim.models.keyedvectors.Vocab at 0x22fda746278>,\n",
       " 'led': <gensim.models.keyedvectors.Vocab at 0x22fda746da0>,\n",
       " 'origin': <gensim.models.keyedvectors.Vocab at 0x22fda746828>,\n",
       " 'severe': <gensim.models.keyedvectors.Vocab at 0x22fda746a90>,\n",
       " 'acute': <gensim.models.keyedvectors.Vocab at 0x22fda746668>,\n",
       " 'respiratory': <gensim.models.keyedvectors.Vocab at 0x22fda7460b8>,\n",
       " 'syndrome': <gensim.models.keyedvectors.Vocab at 0x22fda746c18>,\n",
       " 'outbreak': <gensim.models.keyedvectors.Vocab at 0x22fda746438>}"
      ]
     },
     "execution_count": 68,
     "metadata": {},
     "output_type": "execute_result"
    }
   ],
   "source": [
    "words = model.wv.vocab\n",
    "words"
   ]
  },
  {
   "cell_type": "code",
   "execution_count": 70,
   "id": "f939223f",
   "metadata": {},
   "outputs": [
    {
     "name": "stdout",
     "output_type": "stream",
     "text": [
      "[ 1.7382513e-03 -3.7948543e-03 -4.1661598e-03 -3.6154399e-03\n",
      "  3.6762315e-03 -1.5199969e-03 -3.7066424e-03  1.6443640e-03\n",
      "  3.0450120e-03  4.0633073e-03  1.7057477e-03 -5.4958923e-04\n",
      " -4.0057520e-03  2.0110598e-03 -1.2549666e-03 -1.3571969e-03\n",
      "  2.5101940e-03 -2.3876496e-03  3.3839536e-03 -8.9725846e-04\n",
      "  3.5424163e-03  8.5978198e-04  3.3338205e-03 -2.9819745e-03\n",
      " -1.4537686e-04 -2.3305970e-03  2.2052561e-03 -3.9041531e-03\n",
      "  2.0256769e-03 -1.1752174e-03  2.4289414e-03 -1.8533019e-03\n",
      "  2.6981479e-03 -4.6603549e-03 -4.6252618e-03 -1.2924608e-03\n",
      "  4.8855301e-03  2.4486131e-03 -1.6033112e-03 -4.1899299e-03\n",
      " -1.0269673e-03  1.5478001e-03 -8.2699908e-04  2.1767272e-03\n",
      "  4.6495083e-03 -5.7496299e-04  1.2909997e-03  4.7102929e-04\n",
      "  3.9775269e-03  2.2229215e-03  4.1586403e-03 -2.6984527e-03\n",
      "  1.2708171e-03  1.2823538e-03  3.8335959e-03 -2.5047939e-03\n",
      "  3.0375463e-03  1.8144004e-03  4.7277585e-03 -1.3371919e-03\n",
      "  1.8251500e-03 -2.0532068e-03 -1.6197045e-03 -3.8316797e-03\n",
      " -1.9850650e-04  2.7633486e-03  2.3373482e-03 -3.5811444e-03\n",
      "  2.9857357e-03 -6.3246101e-05  2.9383637e-03  3.7088471e-03\n",
      " -7.9215999e-05  1.9710523e-03 -2.8034837e-03  3.2687872e-03\n",
      "  7.3800498e-04 -2.0481232e-03 -8.7047531e-04  9.8617782e-04\n",
      "  1.7754866e-04 -4.4748816e-03 -6.6246482e-04 -7.5089495e-04\n",
      " -2.8941156e-03 -4.7257832e-05 -6.7653094e-04  2.8773306e-03\n",
      " -1.3408565e-03 -3.8513208e-03  2.6850742e-03 -4.7906097e-03\n",
      "  1.6733077e-03 -2.7523137e-04  3.2881391e-03  2.2821882e-04\n",
      "  4.3756636e-03 -6.7314162e-05  3.6149980e-03 -1.8834157e-03]\n"
     ]
    }
   ],
   "source": [
    "#findig the word vector\n",
    "vector = model.wv['genetic']\n",
    "print(vector)"
   ]
  },
  {
   "cell_type": "code",
   "execution_count": 77,
   "id": "7a498d60",
   "metadata": {},
   "outputs": [],
   "source": [
    "# Most similar words\n",
    "similar = model.wv.most_similar('rna')"
   ]
  },
  {
   "cell_type": "code",
   "execution_count": 78,
   "id": "db14d39f",
   "metadata": {},
   "outputs": [
    {
     "data": {
      "text/plain": [
       "[('bovine', 0.2269323468208313),\n",
       " ('enveloped', 0.2214144617319107),\n",
       " ('acute', 0.1946561336517334),\n",
       " ('acid', 0.1811867654323578),\n",
       " ('complete', 0.16791990399360657)]"
      ]
     },
     "execution_count": 78,
     "metadata": {},
     "output_type": "execute_result"
    }
   ],
   "source": [
    "similar[:5]"
   ]
  },
  {
   "cell_type": "code",
   "execution_count": null,
   "id": "35768864",
   "metadata": {},
   "outputs": [],
   "source": []
  }
 ],
 "metadata": {
  "kernelspec": {
   "display_name": "Python 3",
   "language": "python",
   "name": "python3"
  },
  "language_info": {
   "codemirror_mode": {
    "name": "ipython",
    "version": 3
   },
   "file_extension": ".py",
   "mimetype": "text/x-python",
   "name": "python",
   "nbconvert_exporter": "python",
   "pygments_lexer": "ipython3",
   "version": "3.6.12"
  }
 },
 "nbformat": 4,
 "nbformat_minor": 5
}
